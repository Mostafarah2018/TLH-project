{
 "cells": [
  {
   "cell_type": "code",
   "execution_count": null,
   "id": "1744b7ae",
   "metadata": {},
   "outputs": [],
   "source": [
    "#Finding mutant in TLH gene (ORF) & Finding transversion and transition and counting them\n",
    "# writting by Rahnama Lab\n",
    "from Bio import SeqIO\n",
    "from Bio.Seq import Seq\n",
    "from Bio.SeqRecord import SeqRecord\n",
    "from Bio.Align import AlignInfo\n",
    "from Bio import AlignIO\n",
    "format_ = \"fasta\"\n",
    "filename = \"test.fasta\" #Change with your Sequence fasta format\n",
    "alignment = AlignIO.read(filename, format_)\n",
    "msa_summary = AlignInfo.SummaryInfo(alignment)\n",
    "cons=  msa_summary.dumb_consensus(0.5)"
   ]
  },
  {
   "cell_type": "code",
   "execution_count": null,
   "id": "d7430ed2",
   "metadata": {},
   "outputs": [],
   "source": [
    "for rec in alignment:\n",
    "    print(rec.id)"
   ]
  },
  {
   "cell_type": "code",
   "execution_count": null,
   "id": "928f2187",
   "metadata": {},
   "outputs": [],
   "source": [
    "corr_align={}\n",
    "rec_dic={}\n",
    "for record in alignment:\n",
    "    rec_dic[record.id]=str(record.seq).upper()\n",
    "    seq=list(str(record.seq).upper())\n",
    "\n",
    "    for z,_ in enumerate(seq):\n",
    "            if seq[z] == \"-\":\n",
    "                seq[z]=\"N\"\n",
    "            else:\n",
    "                break\n",
    "    seq=''.join(seq)\n",
    "    corr_align[record.id]=seq\n",
    "    print(\"%s %s\" % (record.id, seq))\n",
    "records =[ SeqRecord(\n",
    "                          Seq(corr_align[i]),\n",
    "                          id=i,\n",
    "                      ) for i in corr_align]\n",
    "SeqIO.write(records, \"tmp.fa\", \"fasta\")"
   ]
  },
  {
   "cell_type": "code",
   "execution_count": null,
   "id": "68064830",
   "metadata": {},
   "outputs": [],
   "source": [
    "from Bio import SeqIO\n",
    "from Bio.Seq import Seq\n",
    "from Bio.SeqRecord import SeqRecord\n",
    "from Bio.Align import AlignInfo\n",
    "from Bio import AlignIO\n",
    "format_ = \"fasta\"\n",
    "filename = \"tmp.fa\"\n",
    "alignment = AlignIO.read(filename, format_)\n",
    "msa_summary = AlignInfo.SummaryInfo(alignment)\n",
    "cons=  msa_summary.dumb_consensus(0.5)"
   ]
  },
  {
   "cell_type": "code",
   "execution_count": null,
   "id": "9712bf9c",
   "metadata": {},
   "outputs": [],
   "source": [
    "corr_align={}\n",
    "rec_dic={}\n",
    "for record in alignment:\n",
    "    rec_dic[record.id]=str(record.seq).upper()\n",
    "    seq=list(str(record.seq).upper())\n",
    "    for z,i in enumerate(seq):\n",
    "        if seq[z] == \"N\":\n",
    "            seq[z]=\"-\"\n",
    "    seq=''.join(seq)\n",
    "    corr_align[record.id]=seq\n",
    "    print(\"%s %s\" % (record.id, seq))"
   ]
  },
  {
   "cell_type": "code",
   "execution_count": null,
   "id": "a2a53d95",
   "metadata": {},
   "outputs": [],
   "source": [
    "records =[ SeqRecord(\n",
    "                          Seq(corr_align[i]),\n",
    "                          id=i,\n",
    "                      ) for i in corr_align]\n",
    "SeqIO.write(records, \"cons.fa\", \"fasta\")"
   ]
  },
  {
   "cell_type": "code",
   "execution_count": null,
   "id": "42a7ceb9",
   "metadata": {},
   "outputs": [],
   "source": [
    "from Bio import SeqIO\n",
    "from Bio.Seq import Seq\n",
    "from Bio.SeqRecord import SeqRecord\n",
    "from Bio.Align import AlignInfo\n",
    "from Bio import AlignIO\n",
    "format_ = \"fasta\"\n",
    "filename = \"cons.fa\"\n",
    "alignment = AlignIO.read(filename, format_)\n",
    "msa_summary = AlignInfo.SummaryInfo(alignment)\n",
    "cons=  msa_summary.dumb_consensus(0.5)"
   ]
  },
  {
   "cell_type": "code",
   "execution_count": null,
   "id": "8ab68f17",
   "metadata": {},
   "outputs": [],
   "source": [
    "align_seqs={}\n",
    "for record in alignment:\n",
    "    align_seqs[record.id]=str(record.seq).upper()"
   ]
  },
  {
   "cell_type": "code",
   "execution_count": null,
   "id": "2ff0b381",
   "metadata": {},
   "outputs": [],
   "source": [
    "cons=str(cons)\n",
    "cns_list=list(cons)[:]\n",
    "table={}\n",
    "for z,inf in enumerate(cns_list):\n",
    "    data={\"consensus\":inf}\n",
    "    cond=False\n",
    "    indicator=sum([align_seqs[seq_id][z]==inf for seq_id in align_seqs])/len(align_seqs)\n",
    "    for seq_id in align_seqs:\n",
    "     #   print(align_seqs[seq_id][z],inf)\n",
    "        if align_seqs[seq_id][z]==inf:\n",
    "            if indicator<0.5:\n",
    "                data[seq_id]=inf\n",
    "                cond = True\n",
    "            else:\n",
    "                data[seq_id]=\".\"\n",
    "                cond=len(set([data[i] for i in data]))>2\n",
    "        else:\n",
    "            data[seq_id]=align_seqs[seq_id][z]\n",
    "            \n",
    "    if indicator<0.5:\n",
    "        data[\"consensus\"]=\"-\"\n",
    "    seq_list=[rec_dic[s][z] for s in align_seqs]\n",
    "    condition2=sum([data[i]==\"-\" and seq_list[z-1]!=\"N\" for z,i in enumerate(data) if i!=\"consensus\"])\n",
    "\n",
    "    if cond and ((set([data[i] for i in data if i!=\"consensus\"])!={\"-\",\".\"}) or (condition2<0.5*len(align_seqs) and condition2>0)) :\n",
    "        table[z+1]=data"
   ]
  },
  {
   "cell_type": "code",
   "execution_count": null,
   "id": "4044dd21",
   "metadata": {},
   "outputs": [],
   "source": [
    "import pandas as pd"
   ]
  },
  {
   "cell_type": "code",
   "execution_count": null,
   "id": "f355c68d",
   "metadata": {},
   "outputs": [],
   "source": [
    "df=pd.DataFrame(table)\n",
    "#df.columns=cns_list\n",
    "#df.to_cs\n",
    "df.to_csv(\"seq_table.csv\")"
   ]
  },
  {
   "cell_type": "code",
   "execution_count": null,
   "id": "ef12df8f",
   "metadata": {},
   "outputs": [],
   "source": [
    "cols=list(df.columns)\n",
    "count={}\n",
    "for col in cols:\n",
    "    cls={}\n",
    "    cons=df[col][\"consensus\"]\n",
    "    for i in df[col]:\n",
    "        if i!=cons and i!=\".\":\n",
    "            mut=cons+\">\"+i\n",
    "            if cls.get(mut,None) is None:\n",
    "                cls[mut]=1\n",
    "            else:\n",
    "                cls[mut]+=1\n",
    "    count[col]=cls"
   ]
  },
  {
   "cell_type": "code",
   "execution_count": null,
   "id": "beb92825",
   "metadata": {},
   "outputs": [],
   "source": [
    "cnt_df=pd.DataFrame(count).fillna(0)"
   ]
  },
  {
   "cell_type": "code",
   "execution_count": null,
   "id": "4fb33110",
   "metadata": {},
   "outputs": [],
   "source": [
    "cnt_df[\"sum\"]=cnt_df.sum(axis=1)"
   ]
  },
  {
   "cell_type": "code",
   "execution_count": null,
   "id": "8aaa7fd1",
   "metadata": {},
   "outputs": [],
   "source": [
    "cnt_df=cnt_df[[\"sum\"]+list(cnt_df.columns)[1:]]\n",
    "cnt_df.to_csv(\"counts.csv\")"
   ]
  },
  {
   "cell_type": "code",
   "execution_count": null,
   "id": "59aacc9f",
   "metadata": {},
   "outputs": [],
   "source": [
    "m=msa_summary.pos_specific_score_matrix().pssm\n",
    "pssm=[[i[0]] +[i[1][l] for l in  i[1]]  for i in m]\n",
    "pssm_df=pd.DataFrame(pssm).T\n",
    "pssm_df.index=[\"consensus\",\"A\",\"C\",\"G\",\"T\"]\n",
    "pssm_df.columns=[i+1 for i in range(len(cns_list))] "
   ]
  },
  {
   "cell_type": "code",
   "execution_count": null,
   "id": "c7cdcd60",
   "metadata": {},
   "outputs": [],
   "source": [
    "\n",
    "vals=[pssm[i-1] for i in table.keys()]\n",
    "vals=[i for i in vals if sum([j!=0 for j in i[1:]])>1]"
   ]
  },
  {
   "cell_type": "code",
   "execution_count": null,
   "id": "3841d54a",
   "metadata": {},
   "outputs": [],
   "source": [
    "\n",
    "vals=[pssm[i-1] for i in table.keys()]\n",
    "vals=[i for i in vals if sum([j!=0 for j in i[1:]])>1]\n",
    "pssm_df=pd.DataFrame(vals).T\n",
    "pssm_df.index=[\"consensus\",\"A\",\"C\",\"G\",\"T\"]\n",
    "pssm_df.to_csv(\"pssm.csv\")"
   ]
  },
  {
   "cell_type": "code",
   "execution_count": null,
   "id": "9557c41c",
   "metadata": {},
   "outputs": [],
   "source": [
    "dic={\n",
    "    \"A>T\":0,\"A>C\":0,\"A>G\":0,\n",
    "    \"T>A\":0,\"T>C\":0,\"T>G\":0,\n",
    "    \"C>A\":0,\"C>T\":0,\"C>G\":0,\n",
    "    \"G>A\":0,\"G>T\":0,\"G>C\":0,\n",
    "    \"X>A\":0,\"X>T\":0,\"X>C\":0,\"X>G\":0,\n",
    "    \"A>X\":0,\"T>X\":0,\"C>X\":0,\"G>X\":0\n",
    "    }"
   ]
  },
  {
   "cell_type": "code",
   "execution_count": null,
   "id": "e996cfec",
   "metadata": {},
   "outputs": [],
   "source": [
    "chrs=[\"A\",\"C\",\"G\",\"T\"]\n",
    "for v in vals:\n",
    "    for z,i in enumerate(v[1:]):\n",
    "        if i>0 and v[0]!=chrs[z]:\n",
    "            dic[v[0]+\">\"+chrs[z]]=dic[v[0]+\">\"+chrs[z]]+1\n",
    "pd.DataFrame([(i,dic[i]) for i in dic],columns=[\"mutation\",\"count\"]).to_csv(\"count.csv\",index=False)"
   ]
  }
 ],
 "metadata": {
  "kernelspec": {
   "display_name": "Python 3 (ipykernel)",
   "language": "python",
   "name": "python3"
  },
  "language_info": {
   "codemirror_mode": {
    "name": "ipython",
    "version": 3
   },
   "file_extension": ".py",
   "mimetype": "text/x-python",
   "name": "python",
   "nbconvert_exporter": "python",
   "pygments_lexer": "ipython3",
   "version": "3.11.5"
  }
 },
 "nbformat": 4,
 "nbformat_minor": 5
}
